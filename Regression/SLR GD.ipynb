{
 "cells": [
  {
   "cell_type": "code",
   "execution_count": 1,
   "metadata": {},
   "outputs": [
    {
     "data": {
      "text/html": [
       "<div>\n",
       "<style scoped>\n",
       "    .dataframe tbody tr th:only-of-type {\n",
       "        vertical-align: middle;\n",
       "    }\n",
       "\n",
       "    .dataframe tbody tr th {\n",
       "        vertical-align: top;\n",
       "    }\n",
       "\n",
       "    .dataframe thead th {\n",
       "        text-align: right;\n",
       "    }\n",
       "</style>\n",
       "<table border=\"1\" class=\"dataframe\">\n",
       "  <thead>\n",
       "    <tr style=\"text-align: right;\">\n",
       "      <th></th>\n",
       "      <th>YearsExperience</th>\n",
       "      <th>Salary</th>\n",
       "    </tr>\n",
       "  </thead>\n",
       "  <tbody>\n",
       "    <tr>\n",
       "      <th>0</th>\n",
       "      <td>1.1</td>\n",
       "      <td>39343.0</td>\n",
       "    </tr>\n",
       "    <tr>\n",
       "      <th>18</th>\n",
       "      <td>5.9</td>\n",
       "      <td>81363.0</td>\n",
       "    </tr>\n",
       "  </tbody>\n",
       "</table>\n",
       "</div>"
      ],
      "text/plain": [
       "    YearsExperience   Salary\n",
       "0               1.1  39343.0\n",
       "18              5.9  81363.0"
      ]
     },
     "execution_count": 1,
     "metadata": {},
     "output_type": "execute_result"
    }
   ],
   "source": [
    "import pandas as pd\n",
    "import numpy as np\n",
    "\n",
    "dataset = pd.read_csv('Datasets/Salary_Data.csv')\n",
    "\n",
    "X = np.array(dataset.iloc[:, 0])\n",
    "y = np.array(dataset.iloc[:, 1])\n",
    "\n",
    "dataset.sample(2)"
   ]
  },
  {
   "cell_type": "code",
   "execution_count": 2,
   "metadata": {},
   "outputs": [
    {
     "data": {
      "text/html": [
       "<table class=\"simpletable\">\n",
       "<tr>\n",
       "        <td>Model:</td>               <td>OLS</td>         <td>Adj. R-squared:</td>      <td>0.955</td>  \n",
       "</tr>\n",
       "<tr>\n",
       "  <td>Dependent Variable:</td>         <td>y</td>               <td>AIC:</td>          <td>606.8823</td> \n",
       "</tr>\n",
       "<tr>\n",
       "         <td>Date:</td>        <td>2020-07-13 21:39</td>        <td>BIC:</td>          <td>609.6847</td> \n",
       "</tr>\n",
       "<tr>\n",
       "   <td>No. Observations:</td>         <td>30</td>          <td>Log-Likelihood:</td>     <td>-301.44</td> \n",
       "</tr>\n",
       "<tr>\n",
       "       <td>Df Model:</td>              <td>1</td>           <td>F-statistic:</td>        <td>622.5</td>  \n",
       "</tr>\n",
       "<tr>\n",
       "     <td>Df Residuals:</td>           <td>28</td>        <td>Prob (F-statistic):</td>  <td>1.14e-20</td> \n",
       "</tr>\n",
       "<tr>\n",
       "      <td>R-squared:</td>            <td>0.957</td>            <td>Scale:</td>        <td>3.3505e+07</td>\n",
       "</tr>\n",
       "</table>\n",
       "<table class=\"simpletable\">\n",
       "<tr>\n",
       "    <td></td>       <th>Coef.</th>   <th>Std.Err.</th>     <th>t</th>     <th>P>|t|</th>   <th>[0.025</th>     <th>0.975]</th>  \n",
       "</tr>\n",
       "<tr>\n",
       "  <th>const</th> <td>25792.2002</td> <td>2273.0534</td> <td>11.3469</td> <td>0.0000</td> <td>21136.0613</td> <td>30448.3391</td>\n",
       "</tr>\n",
       "<tr>\n",
       "  <th>x1</th>     <td>9449.9623</td> <td>378.7546</td>  <td>24.9501</td> <td>0.0000</td>  <td>8674.1187</td> <td>10225.8059</td>\n",
       "</tr>\n",
       "</table>\n",
       "<table class=\"simpletable\">\n",
       "<tr>\n",
       "     <td>Omnibus:</td>    <td>2.140</td>  <td>Durbin-Watson:</td>   <td>1.648</td>\n",
       "</tr>\n",
       "<tr>\n",
       "  <td>Prob(Omnibus):</td> <td>0.343</td> <td>Jarque-Bera (JB):</td> <td>1.569</td>\n",
       "</tr>\n",
       "<tr>\n",
       "       <td>Skew:</td>     <td>0.363</td>     <td>Prob(JB):</td>     <td>0.456</td>\n",
       "</tr>\n",
       "<tr>\n",
       "     <td>Kurtosis:</td>   <td>2.147</td>  <td>Condition No.:</td>    <td>13</td>  \n",
       "</tr>\n",
       "</table>"
      ],
      "text/plain": [
       "<class 'statsmodels.iolib.summary2.Summary'>\n",
       "\"\"\"\n",
       "                  Results: Ordinary least squares\n",
       "===================================================================\n",
       "Model:              OLS              Adj. R-squared:     0.955     \n",
       "Dependent Variable: y                AIC:                606.8823  \n",
       "Date:               2020-07-13 21:39 BIC:                609.6847  \n",
       "No. Observations:   30               Log-Likelihood:     -301.44   \n",
       "Df Model:           1                F-statistic:        622.5     \n",
       "Df Residuals:       28               Prob (F-statistic): 1.14e-20  \n",
       "R-squared:          0.957            Scale:              3.3505e+07\n",
       "-------------------------------------------------------------------\n",
       "            Coef.     Std.Err.    t    P>|t|    [0.025     0.975]  \n",
       "-------------------------------------------------------------------\n",
       "const     25792.2002 2273.0534 11.3469 0.0000 21136.0613 30448.3391\n",
       "x1         9449.9623  378.7546 24.9501 0.0000  8674.1187 10225.8059\n",
       "-------------------------------------------------------------------\n",
       "Omnibus:                2.140        Durbin-Watson:           1.648\n",
       "Prob(Omnibus):          0.343        Jarque-Bera (JB):        1.569\n",
       "Skew:                   0.363        Prob(JB):                0.456\n",
       "Kurtosis:               2.147        Condition No.:           13   \n",
       "===================================================================\n",
       "\n",
       "\"\"\""
      ]
     },
     "execution_count": 2,
     "metadata": {},
     "output_type": "execute_result"
    }
   ],
   "source": [
    "import statsmodels.api as sm\n",
    "\n",
    "ols = sm.OLS(endog = y, exog = sm.add_constant(X)).fit() \n",
    "ols.summary2()"
   ]
  },
  {
   "cell_type": "code",
   "execution_count": 4,
   "metadata": {},
   "outputs": [
    {
     "data": {
      "image/png": "[encoded data removed]",
      "text/plain": [
       "<Figure size 432x288 with 1 Axes>"
      ]
     },
     "metadata": {},
     "output_type": "display_data"
    }
   ],
   "source": [
    "import matplotlib.pyplot as plt\n",
    "plt.style.use('fivethirtyeight')\n",
    "\n",
    "pred_ols = ols.predict(sm.add_constant(X))\n",
    "\n",
    "plt.scatter(X, y)\n",
    "plt.plot(X, pred_ols, color = 'red')\n",
    "plt.show()"
   ]
  },
  {
   "cell_type": "code",
   "execution_count": 15,
   "metadata": {},
   "outputs": [
    {
     "data": {
      "text/plain": [
       "array([ 39343.,  46205.,  37731.,  43525.,  39891.,  56642.,  60150.,\n",
       "        54445.,  64445.,  57189.,  63218.,  55794.,  56957.,  57081.,\n",
       "        61111.,  67938.,  66029.,  83088.,  81363.,  93940.,  91738.,\n",
       "        98273., 101302., 113812., 109431., 105582., 116969., 112635.,\n",
       "       122391., 121872.])"
      ]
     },
     "execution_count": 15,
     "metadata": {},
     "output_type": "execute_result"
    }
   ],
   "source": []
  },
  {
   "cell_type": "code",
   "execution_count": 11,
   "metadata": {},
   "outputs": [
    {
     "name": "stdout",
     "output_type": "stream",
     "text": [
      "m = 9449.962323709779 and b = 25792.200183474863\n"
     ]
    },
    {
     "data": {
      "image/png": "[encoded data removed]",
      "text/plain": [
       "<Figure size 432x288 with 1 Axes>"
      ]
     },
     "metadata": {},
     "output_type": "display_data"
    }
   ],
   "source": [
    "list_m = []\n",
    "list_b = []\n",
    "\n",
    "m, b, n, num_of_iterations, learning_rate = 0, 0, len(X), 10000, .01\n",
    "for i in range(num_of_iterations):\n",
    "    ddm = - 1/n * sum((y - m*X - b) * X)\n",
    "    ddb = - 1/n * sum(y - m*X - b)\n",
    "    m = m - (ddm * learning_rate)\n",
    "    b = b - (ddb * learning_rate)\n",
    "    list_m.append(m)\n",
    "    list_b.append(b)\n",
    "    \n",
    "    \n",
    "    \n",
    "print(f'm = {m} and b = {b}')\n",
    "\n",
    "pred_gd_1 = [(m*x + b) for x in X]\n",
    "\n",
    "plt.scatter(X, y)\n",
    "plt.plot(X, pred_gd_1, color = 'red')\n",
    "plt.show()"
   ]
  },
  {
   "cell_type": "code",
   "execution_count": 12,
   "metadata": {
    "scrolled": true
   },
   "outputs": [
    {
     "data": {
      "text/plain": [
       "<matplotlib.collections.PathCollection at 0x126f8fd95c8>"
      ]
     },
     "execution_count": 12,
     "metadata": {},
     "output_type": "execute_result"
    },
    {
     "data": {
      "image/png": "[encoded data removed]",
      "text/plain": [
       "<Figure size 432x288 with 1 Axes>"
      ]
     },
     "metadata": {},
     "output_type": "display_data"
    }
   ],
   "source": [
    "plt.scatter(list_m[:500], list_b[:500])"
   ]
  },
  {
   "cell_type": "code",
   "execution_count": 13,
   "metadata": {},
   "outputs": [
    {
     "name": "stdout",
     "output_type": "stream",
     "text": [
      "m = 12316.105337681542 and b = 6478.023133074989\n"
     ]
    },
    {
     "data": {
      "image/png": "[encoded data removed]",
      "text/plain": [
       "<Figure size 432x288 with 1 Axes>"
      ]
     },
     "metadata": {},
     "output_type": "display_data"
    }
   ],
   "source": [
    "m, b, n, num_of_iterations, learning_rate = 0, 0, len(X), 1000, .001\n",
    "for i in range(num_of_iterations):\n",
    "    ddm = - 1/n * sum((y - m*X - b) * X)\n",
    "    ddb = - 1/n * sum(y - m*X - b)\n",
    "    m = m - (ddm * learning_rate)\n",
    "    b = b - (ddb * learning_rate)\n",
    "    \n",
    "    \n",
    "    \n",
    "print(f'm = {m} and b = {b}')\n",
    "\n",
    "pred_gd_1 = [(m*x + b) for x in X]\n",
    "\n",
    "plt.scatter(X, y)\n",
    "plt.plot(X, pred_gd_1, color = 'red')\n",
    "plt.show()"
   ]
  },
  {
   "cell_type": "code",
   "execution_count": 7,
   "metadata": {},
   "outputs": [
    {
     "name": "stdout",
     "output_type": "stream",
     "text": [
      "m = 12299.272663200205\n"
     ]
    },
    {
     "data": {
      "image/png": "[encoded data removed]",
      "text/plain": [
       "<Figure size 432x288 with 1 Axes>"
      ]
     },
     "metadata": {},
     "output_type": "display_data"
    }
   ],
   "source": [
    "m, n, num_of_iterations, learning_rate = 0, len(X), 1000, .001\n",
    "for i in range(num_of_iterations):\n",
    "    ddm = - 1/n * sum((y - m*X - b) * X)\n",
    "    m = m - (ddm * learning_rate)\n",
    "\n",
    "    \n",
    "    \n",
    "print(f'm = {m}')\n",
    "    \n",
    "pred_gd_2 = [(m*x) for x in X]\n",
    "\n",
    "plt.scatter(X, y)\n",
    "plt.plot(X, pred_gd_2, color = 'red')\n",
    "plt.show()"
   ]
  },
  {
   "cell_type": "code",
   "execution_count": 8,
   "metadata": {},
   "outputs": [
    {
     "data": {
      "text/html": [
       "<div>\n",
       "<style scoped>\n",
       "    .dataframe tbody tr th:only-of-type {\n",
       "        vertical-align: middle;\n",
       "    }\n",
       "\n",
       "    .dataframe tbody tr th {\n",
       "        vertical-align: top;\n",
       "    }\n",
       "\n",
       "    .dataframe thead th {\n",
       "        text-align: right;\n",
       "    }\n",
       "</style>\n",
       "<table border=\"1\" class=\"dataframe\">\n",
       "  <thead>\n",
       "    <tr style=\"text-align: right;\">\n",
       "      <th></th>\n",
       "      <th>statsmodels.api</th>\n",
       "      <th>Original</th>\n",
       "      <th>GradientDescent model1</th>\n",
       "      <th>GradientDescent model2</th>\n",
       "    </tr>\n",
       "  </thead>\n",
       "  <tbody>\n",
       "    <tr>\n",
       "      <th>0</th>\n",
       "      <td>14580.432300</td>\n",
       "      <td>39343.0</td>\n",
       "      <td>20025.739005</td>\n",
       "      <td>13529.199930</td>\n",
       "    </tr>\n",
       "    <tr>\n",
       "      <th>1</th>\n",
       "      <td>17231.419991</td>\n",
       "      <td>46205.0</td>\n",
       "      <td>22488.960072</td>\n",
       "      <td>15989.054462</td>\n",
       "    </tr>\n",
       "    <tr>\n",
       "      <th>2</th>\n",
       "      <td>19882.407682</td>\n",
       "      <td>37731.0</td>\n",
       "      <td>24952.181140</td>\n",
       "      <td>18448.908995</td>\n",
       "    </tr>\n",
       "    <tr>\n",
       "      <th>3</th>\n",
       "      <td>26509.876909</td>\n",
       "      <td>43525.0</td>\n",
       "      <td>31110.233808</td>\n",
       "      <td>24598.545326</td>\n",
       "    </tr>\n",
       "    <tr>\n",
       "      <th>4</th>\n",
       "      <td>29160.864600</td>\n",
       "      <td>39891.0</td>\n",
       "      <td>33573.454876</td>\n",
       "      <td>27058.399859</td>\n",
       "    </tr>\n",
       "    <tr>\n",
       "      <th>5</th>\n",
       "      <td>38439.321518</td>\n",
       "      <td>56642.0</td>\n",
       "      <td>42194.728612</td>\n",
       "      <td>35667.890723</td>\n",
       "    </tr>\n",
       "    <tr>\n",
       "      <th>6</th>\n",
       "      <td>39764.815363</td>\n",
       "      <td>60150.0</td>\n",
       "      <td>43426.339146</td>\n",
       "      <td>36897.817990</td>\n",
       "    </tr>\n",
       "    <tr>\n",
       "      <th>7</th>\n",
       "      <td>42415.803054</td>\n",
       "      <td>54445.0</td>\n",
       "      <td>45889.560214</td>\n",
       "      <td>39357.672522</td>\n",
       "    </tr>\n",
       "    <tr>\n",
       "      <th>8</th>\n",
       "      <td>42415.803054</td>\n",
       "      <td>64445.0</td>\n",
       "      <td>45889.560214</td>\n",
       "      <td>39357.672522</td>\n",
       "    </tr>\n",
       "    <tr>\n",
       "      <th>9</th>\n",
       "      <td>49043.272281</td>\n",
       "      <td>57189.0</td>\n",
       "      <td>52047.612882</td>\n",
       "      <td>45507.308854</td>\n",
       "    </tr>\n",
       "    <tr>\n",
       "      <th>10</th>\n",
       "      <td>51694.259972</td>\n",
       "      <td>63218.0</td>\n",
       "      <td>54510.833950</td>\n",
       "      <td>47967.163386</td>\n",
       "    </tr>\n",
       "    <tr>\n",
       "      <th>11</th>\n",
       "      <td>53019.753818</td>\n",
       "      <td>55794.0</td>\n",
       "      <td>55742.444484</td>\n",
       "      <td>49197.090653</td>\n",
       "    </tr>\n",
       "    <tr>\n",
       "      <th>12</th>\n",
       "      <td>53019.753818</td>\n",
       "      <td>56957.0</td>\n",
       "      <td>55742.444484</td>\n",
       "      <td>49197.090653</td>\n",
       "    </tr>\n",
       "    <tr>\n",
       "      <th>13</th>\n",
       "      <td>54345.247663</td>\n",
       "      <td>57081.0</td>\n",
       "      <td>56974.055018</td>\n",
       "      <td>50427.017919</td>\n",
       "    </tr>\n",
       "    <tr>\n",
       "      <th>14</th>\n",
       "      <td>59647.223045</td>\n",
       "      <td>61111.0</td>\n",
       "      <td>61900.497153</td>\n",
       "      <td>55346.726984</td>\n",
       "    </tr>\n",
       "    <tr>\n",
       "      <th>15</th>\n",
       "      <td>64949.198427</td>\n",
       "      <td>67938.0</td>\n",
       "      <td>66826.939288</td>\n",
       "      <td>60266.436050</td>\n",
       "    </tr>\n",
       "    <tr>\n",
       "      <th>16</th>\n",
       "      <td>67600.186118</td>\n",
       "      <td>66029.0</td>\n",
       "      <td>69290.160355</td>\n",
       "      <td>62726.290582</td>\n",
       "    </tr>\n",
       "    <tr>\n",
       "      <th>17</th>\n",
       "      <td>70251.173808</td>\n",
       "      <td>83088.0</td>\n",
       "      <td>71753.381423</td>\n",
       "      <td>65186.145115</td>\n",
       "    </tr>\n",
       "    <tr>\n",
       "      <th>18</th>\n",
       "      <td>78204.136881</td>\n",
       "      <td>81363.0</td>\n",
       "      <td>79143.044625</td>\n",
       "      <td>72565.708713</td>\n",
       "    </tr>\n",
       "    <tr>\n",
       "      <th>19</th>\n",
       "      <td>79529.630727</td>\n",
       "      <td>93940.0</td>\n",
       "      <td>80374.655159</td>\n",
       "      <td>73795.635979</td>\n",
       "    </tr>\n",
       "    <tr>\n",
       "      <th>20</th>\n",
       "      <td>90133.581490</td>\n",
       "      <td>91738.0</td>\n",
       "      <td>90227.539429</td>\n",
       "      <td>83635.054110</td>\n",
       "    </tr>\n",
       "    <tr>\n",
       "      <th>21</th>\n",
       "      <td>94110.063026</td>\n",
       "      <td>98273.0</td>\n",
       "      <td>93922.371031</td>\n",
       "      <td>87324.835909</td>\n",
       "    </tr>\n",
       "    <tr>\n",
       "      <th>22</th>\n",
       "      <td>104714.013790</td>\n",
       "      <td>101302.0</td>\n",
       "      <td>103775.255301</td>\n",
       "      <td>97164.254039</td>\n",
       "    </tr>\n",
       "    <tr>\n",
       "      <th>23</th>\n",
       "      <td>108690.495326</td>\n",
       "      <td>113812.0</td>\n",
       "      <td>107470.086902</td>\n",
       "      <td>100854.035838</td>\n",
       "    </tr>\n",
       "    <tr>\n",
       "      <th>24</th>\n",
       "      <td>115317.964553</td>\n",
       "      <td>109431.0</td>\n",
       "      <td>113628.139571</td>\n",
       "      <td>107003.672170</td>\n",
       "    </tr>\n",
       "    <tr>\n",
       "      <th>25</th>\n",
       "      <td>119294.446090</td>\n",
       "      <td>105582.0</td>\n",
       "      <td>117322.971172</td>\n",
       "      <td>110693.453969</td>\n",
       "    </tr>\n",
       "    <tr>\n",
       "      <th>26</th>\n",
       "      <td>125921.915317</td>\n",
       "      <td>116969.0</td>\n",
       "      <td>123481.023841</td>\n",
       "      <td>116843.090300</td>\n",
       "    </tr>\n",
       "    <tr>\n",
       "      <th>27</th>\n",
       "      <td>127247.409162</td>\n",
       "      <td>112635.0</td>\n",
       "      <td>124712.634375</td>\n",
       "      <td>118073.017567</td>\n",
       "    </tr>\n",
       "    <tr>\n",
       "      <th>28</th>\n",
       "      <td>136525.866081</td>\n",
       "      <td>122391.0</td>\n",
       "      <td>133333.908111</td>\n",
       "      <td>126682.508431</td>\n",
       "    </tr>\n",
       "    <tr>\n",
       "      <th>29</th>\n",
       "      <td>139176.853771</td>\n",
       "      <td>121872.0</td>\n",
       "      <td>135797.129179</td>\n",
       "      <td>129142.362964</td>\n",
       "    </tr>\n",
       "  </tbody>\n",
       "</table>\n",
       "</div>"
      ],
      "text/plain": [
       "    statsmodels.api  Original  GradientDescent model1  GradientDescent model2\n",
       "0      14580.432300   39343.0            20025.739005            13529.199930\n",
       "1      17231.419991   46205.0            22488.960072            15989.054462\n",
       "2      19882.407682   37731.0            24952.181140            18448.908995\n",
       "3      26509.876909   43525.0            31110.233808            24598.545326\n",
       "4      29160.864600   39891.0            33573.454876            27058.399859\n",
       "5      38439.321518   56642.0            42194.728612            35667.890723\n",
       "6      39764.815363   60150.0            43426.339146            36897.817990\n",
       "7      42415.803054   54445.0            45889.560214            39357.672522\n",
       "8      42415.803054   64445.0            45889.560214            39357.672522\n",
       "9      49043.272281   57189.0            52047.612882            45507.308854\n",
       "10     51694.259972   63218.0            54510.833950            47967.163386\n",
       "11     53019.753818   55794.0            55742.444484            49197.090653\n",
       "12     53019.753818   56957.0            55742.444484            49197.090653\n",
       "13     54345.247663   57081.0            56974.055018            50427.017919\n",
       "14     59647.223045   61111.0            61900.497153            55346.726984\n",
       "15     64949.198427   67938.0            66826.939288            60266.436050\n",
       "16     67600.186118   66029.0            69290.160355            62726.290582\n",
       "17     70251.173808   83088.0            71753.381423            65186.145115\n",
       "18     78204.136881   81363.0            79143.044625            72565.708713\n",
       "19     79529.630727   93940.0            80374.655159            73795.635979\n",
       "20     90133.581490   91738.0            90227.539429            83635.054110\n",
       "21     94110.063026   98273.0            93922.371031            87324.835909\n",
       "22    104714.013790  101302.0           103775.255301            97164.254039\n",
       "23    108690.495326  113812.0           107470.086902           100854.035838\n",
       "24    115317.964553  109431.0           113628.139571           107003.672170\n",
       "25    119294.446090  105582.0           117322.971172           110693.453969\n",
       "26    125921.915317  116969.0           123481.023841           116843.090300\n",
       "27    127247.409162  112635.0           124712.634375           118073.017567\n",
       "28    136525.866081  122391.0           133333.908111           126682.508431\n",
       "29    139176.853771  121872.0           135797.129179           129142.362964"
      ]
     },
     "execution_count": 8,
     "metadata": {},
     "output_type": "execute_result"
    }
   ],
   "source": [
    "pd.DataFrame(list(zip(pred_ols, y, pred_gd_1, pred_gd_2)), columns = ['statsmodels.api', 'Original', 'GradientDescent model1', 'GradientDescent model2'])"
   ]
  },
  {
   "cell_type": "code",
   "execution_count": null,
   "metadata": {},
   "outputs": [],
   "source": []
  },
  {
   "cell_type": "code",
   "execution_count": null,
   "metadata": {},
   "outputs": [],
   "source": []
  },
  {
   "cell_type": "code",
   "execution_count": null,
   "metadata": {},
   "outputs": [],
   "source": []
  },
  {
   "cell_type": "code",
   "execution_count": null,
   "metadata": {},
   "outputs": [],
   "source": []
  },
  {
   "cell_type": "code",
   "execution_count": null,
   "metadata": {},
   "outputs": [],
   "source": []
  },
  {
   "cell_type": "code",
   "execution_count": null,
   "metadata": {},
   "outputs": [],
   "source": []
  },
  {
   "cell_type": "code",
   "execution_count": null,
   "metadata": {},
   "outputs": [],
   "source": []
  },
  {
   "cell_type": "code",
   "execution_count": null,
   "metadata": {},
   "outputs": [],
   "source": []
  },
  {
   "cell_type": "code",
   "execution_count": null,
   "metadata": {},
   "outputs": [],
   "source": []
  }
 ],
 "metadata": {
  "kernelspec": {
   "display_name": "Python 3",
   "language": "python",
   "name": "python3"
  },
  "language_info": {
   "codemirror_mode": {
    "name": "ipython",
    "version": 3
   },
   "file_extension": ".py",
   "mimetype": "text/x-python",
   "name": "python",
   "nbconvert_exporter": "python",
   "pygments_lexer": "ipython3",
   "version": "3.7.6"
  }
 },
 "nbformat": 4,
 "nbformat_minor": 4
}
